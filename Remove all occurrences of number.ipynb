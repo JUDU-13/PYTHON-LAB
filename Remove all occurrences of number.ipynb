{
 "cells": [
  {
   "cell_type": "code",
   "execution_count": 13,
   "metadata": {},
   "outputs": [
    {
     "name": "stdout",
     "output_type": "stream",
     "text": [
      "enter the number of elements in list: 10\n",
      "Enter list\n",
      "10\n",
      "20\n",
      "30\n",
      "40\n",
      "30\n",
      "50\n",
      "30\n",
      "300\n",
      "400\n",
      "30\n",
      "[10, 20, 30, 40, 30, 50, 30, 300, 400, 30]\n",
      "enter the number to remove  30\n",
      "the list after removal:  [10, 20, 40, 50, 300, 400]\n"
     ]
    }
   ],
   "source": [
    "list = []\n",
    "n = int(input(\"enter the number of elements in list: \"))\n",
    "print(\"Enter list\")\n",
    "for i in range(0,n):\n",
    "    list.append(int(input()))\n",
    "print(list)\n",
    "item = int(input(\"enter the number to remove  \"))\n",
    "c = list.count(item)\n",
    "for i in range(c):\n",
    "    list.remove(item)\n",
    "print(\"the list after removal: \",list)    "
   ]
  },
  {
   "cell_type": "code",
   "execution_count": null,
   "metadata": {},
   "outputs": [],
   "source": []
  },
  {
   "cell_type": "code",
   "execution_count": null,
   "metadata": {},
   "outputs": [],
   "source": []
  }
 ],
 "metadata": {
  "kernelspec": {
   "display_name": "Python 3",
   "language": "python",
   "name": "python3"
  },
  "language_info": {
   "codemirror_mode": {
    "name": "ipython",
    "version": 3
   },
   "file_extension": ".py",
   "mimetype": "text/x-python",
   "name": "python",
   "nbconvert_exporter": "python",
   "pygments_lexer": "ipython3",
   "version": "3.6.9"
  }
 },
 "nbformat": 4,
 "nbformat_minor": 2
}
