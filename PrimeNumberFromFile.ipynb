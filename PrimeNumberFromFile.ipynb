{
 "cells": [
  {
   "cell_type": "code",
   "execution_count": 1,
   "metadata": {},
   "outputs": [
    {
     "name": "stdout",
     "output_type": "stream",
     "text": [
      "File contents: [1, 26, 131, 54642, 151, 363, 13, 7, 15, 21, 11, 29, 31]\n",
      "prime numbers: 131 151 13 7 11 29 31 "
     ]
    }
   ],
   "source": [
    "file = open('textfile.txt', 'r+') # make a 'textfile.txt' in the current folder\n",
    "lst = []\n",
    "for i in file:\n",
    "    lst.append(int(i))\n",
    "print(\"File contents:\",lst)\n",
    "print(\"prime numbers: \", end=\"\")\n",
    "for j in lst:\n",
    "    if j == 0 or j == 1:\n",
    "        continue\n",
    "    for i in range(2, j // 2 + 1):\n",
    "        if j % i == 0:\n",
    "            break\n",
    "    else:\n",
    "        print(j, end = \" \")\n",
    "file.close()"
   ]
  }
 ],
 "metadata": {
  "kernelspec": {
   "display_name": "Python 3",
   "language": "python",
   "name": "python3"
  },
  "language_info": {
   "codemirror_mode": {
    "name": "ipython",
    "version": 3
   },
   "file_extension": ".py",
   "mimetype": "text/x-python",
   "name": "python",
   "nbconvert_exporter": "python",
   "pygments_lexer": "ipython3",
   "version": "3.6.9"
  }
 },
 "nbformat": 4,
 "nbformat_minor": 2
}
