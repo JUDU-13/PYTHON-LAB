{
 "cells": [
  {
   "cell_type": "code",
   "execution_count": 1,
   "metadata": {},
   "outputs": [
    {
     "name": "stdout",
     "output_type": "stream",
     "text": [
      "Enter a string : hi nice to meet you\n",
      "Enter the word to be replaced : nice\n",
      "Enter the word to be replaced with : happy\n"
     ]
    }
   ],
   "source": [
    "s=input(\"Enter a string : \")\n",
    "c=input(\"Enter the word to be replaced : \")\n",
    "r=input(\"Enter the word to be replaced with : \")\n",
    "l=s.split()"
   ]
  },
  {
   "cell_type": "code",
   "execution_count": 2,
   "metadata": {},
   "outputs": [
    {
     "name": "stdout",
     "output_type": "stream",
     "text": [
      "The updated string is :\n",
      "hi happy to meet you "
     ]
    }
   ],
   "source": [
    "for i in range(len(l)):\n",
    "    if c==l[i]:\n",
    "        l[i]=r\n",
    "        \n",
    "print(\"The updated string is :\")\n",
    "for i in range(len(l)):\n",
    "        print(l[i],end=\" \")"
   ]
  },
  {
   "cell_type": "code",
   "execution_count": null,
   "metadata": {},
   "outputs": [],
   "source": []
  }
 ],
 "metadata": {
  "kernelspec": {
   "display_name": "Python 3",
   "language": "python",
   "name": "python3"
  },
  "language_info": {
   "codemirror_mode": {
    "name": "ipython",
    "version": 3
   },
   "file_extension": ".py",
   "mimetype": "text/x-python",
   "name": "python",
   "nbconvert_exporter": "python",
   "pygments_lexer": "ipython3",
   "version": "3.6.9"
  },
  "widgets": {
   "application/vnd.jupyter.widget-state+json": {
    "state": {},
    "version_major": 1,
    "version_minor": 0
   }
  }
 },
 "nbformat": 4,
 "nbformat_minor": 2
}
