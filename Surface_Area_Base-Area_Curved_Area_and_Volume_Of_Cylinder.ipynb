{
 "cells": [
  {
   "cell_type": "code",
   "execution_count": 10,
   "metadata": {},
   "outputs": [],
   "source": [
    "def tsa(r,h):\n",
    "    TSA=2*3.14*r*(r+h)\n",
    "    return TSA"
   ]
  },
  {
   "cell_type": "code",
   "execution_count": 19,
   "metadata": {},
   "outputs": [],
   "source": [
    "def csa(r,h):\n",
    "    CSA=2*3.14*r*h\n",
    "    return CSA"
   ]
  },
  {
   "cell_type": "code",
   "execution_count": 21,
   "metadata": {},
   "outputs": [],
   "source": [
    "def v(r,h):\n",
    "    V=3.14*r*h\n",
    "    return V"
   ]
  },
  {
   "cell_type": "code",
   "execution_count": 22,
   "metadata": {},
   "outputs": [
    {
     "name": "stdout",
     "output_type": "stream",
     "text": [
      "Enter the radius of the cylinder :10\n",
      "Enter the height of the cylinder :20\n",
      "Total Surface Area of Cylinder : 1884.0000000000002\n",
      "Curved Surface Area of Cylinder : 1256.0\n",
      "Volume of Cylinder : 628.0\n"
     ]
    }
   ],
   "source": [
    "r=float(input(\"Enter the radius of the cylinder :\"))\n",
    "h=float(input(\"Enter the height of the cylinder :\"))\n",
    "print(\"Total Surface Area of Cylinder :\",tsa(r,h))\n",
    "print(\"Curved Surface Area of Cylinder :\",csa(r,h))\n",
    "print(\"Volume of Cylinder :\",v(r,h))"
   ]
  },
  {
   "cell_type": "code",
   "execution_count": null,
   "metadata": {},
   "outputs": [],
   "source": []
  },
  {
   "cell_type": "code",
   "execution_count": null,
   "metadata": {},
   "outputs": [],
   "source": []
  }
 ],
 "metadata": {
  "kernelspec": {
   "display_name": "Python 3",
   "language": "python",
   "name": "python3"
  },
  "language_info": {
   "codemirror_mode": {
    "name": "ipython",
    "version": 3
   },
   "file_extension": ".py",
   "mimetype": "text/x-python",
   "name": "python",
   "nbconvert_exporter": "python",
   "pygments_lexer": "ipython3",
   "version": "3.6.9"
  }
 },
 "nbformat": 4,
 "nbformat_minor": 2
}
