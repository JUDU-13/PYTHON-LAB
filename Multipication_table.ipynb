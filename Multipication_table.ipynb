{
 "cells": [
  {
   "cell_type": "code",
   "execution_count": 2,
   "metadata": {},
   "outputs": [
    {
     "name": "stdout",
     "output_type": "stream",
     "text": [
      "Enter the number to print the multiplication table: 1\n",
      "1.0 x 1 = 1.0\n",
      "1.0 x 2 = 2.0\n",
      "1.0 x 3 = 3.0\n",
      "1.0 x 4 = 4.0\n",
      "1.0 x 5 = 5.0\n",
      "1.0 x 6 = 6.0\n",
      "1.0 x 7 = 7.0\n",
      "1.0 x 8 = 8.0\n",
      "1.0 x 9 = 9.0\n",
      "1.0 x 10 = 10.0\n"
     ]
    }
   ],
   "source": [
    "    n=float(input (\"Enter the number to print the multiplication table: \"))                 \n",
    "    for c in range(1, 11):      \n",
    "           print (n,'x',c,'=',n*c)    "
   ]
  },
  {
   "cell_type": "code",
   "execution_count": null,
   "metadata": {},
   "outputs": [],
   "source": []
  }
 ],
 "metadata": {
  "kernelspec": {
   "display_name": "Python 3",
   "language": "python",
   "name": "python3"
  },
  "language_info": {
   "codemirror_mode": {
    "name": "ipython",
    "version": 3
   },
   "file_extension": ".py",
   "mimetype": "text/x-python",
   "name": "python",
   "nbconvert_exporter": "python",
   "pygments_lexer": "ipython3",
   "version": "3.6.9"
  }
 },
 "nbformat": 4,
 "nbformat_minor": 2
}
